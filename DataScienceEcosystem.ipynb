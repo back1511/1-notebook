{
  "metadata": {
    "kernelspec": {
      "name": "python",
      "display_name": "Python (Pyodide)",
      "language": "python"
    },
    "language_info": {
      "codemirror_mode": {
        "name": "python",
        "version": 3
      },
      "file_extension": ".py",
      "mimetype": "text/x-python",
      "name": "python",
      "nbconvert_exporter": "python",
      "pygments_lexer": "ipython3",
      "version": "3.8"
    }
  },
  "nbformat_minor": 4,
  "nbformat": 4,
  "cells": [
    {
      "cell_type": "markdown",
      "source": "# Data Science Tools and Ecosystem",
      "metadata": {}
    },
    {
      "cell_type": "markdown",
      "source": " # In this notebook, Data Science Tools and Ecosystem are summarized.",
      "metadata": {}
    },
    {
      "cell_type": "markdown",
      "source": "# Some of the popular languages that Data Scientists use are:\n## ordered list:\n#### 1. R\n#### 2. SQL\n#### 3. Python\n#### 4. Matlab\n#### 5. C/C++",
      "metadata": {}
    },
    {
      "cell_type": "markdown",
      "source": "# Some of the commonly used libraries used by Data Scientists include:\n## ordered list:\n#### 1. Numpy\n#### 2. Pandas\n#### 3. Scikit\n#### 4. Tensorflow\n##### Mostly Python based libraries",
      "metadata": {}
    },
    {
      "cell_type": "markdown",
      "source": " Data Science Tools |\n------------------- |\nJupyterlite |\nVS code  |\nGITHUB |\n",
      "metadata": {}
    },
    {
      "cell_type": "markdown",
      "source": " ### Below are a few examples of evaluating arithmetic expressions in Python",
      "metadata": {}
    },
    {
      "cell_type": "code",
      "source": "print (\"This a simple arithmetic expression to mutiply then add integers.\")\n(3*4)+5",
      "metadata": {
        "trusted": true
      },
      "outputs": [
        {
          "name": "stdout",
          "text": "This a simple arithmetic expression to mutiply then add integers.\n",
          "output_type": "stream"
        },
        {
          "execution_count": 1,
          "output_type": "execute_result",
          "data": {
            "text/plain": "17"
          },
          "metadata": {}
        }
      ],
      "execution_count": 1
    },
    {
      "cell_type": "code",
      "source": " x = 60\ny= 200\nprint (\"This will convert 200 minutes to hours by diving by 60\")\nprint (y/x)",
      "metadata": {
        "trusted": true
      },
      "outputs": [
        {
          "name": "stdout",
          "text": "This will convert 200 minutes to hours by diving by 60\n3.3333333333333335\n",
          "output_type": "stream"
        }
      ],
      "execution_count": 2
    },
    {
      "cell_type": "markdown",
      "source": "# **Objectives:**\n### List popular languages and tools for Data Science:\n- JupyterLite\n- Google Colaboratory.\n- JupyterLab\n- Anaconda Navigator GUI ",
      "metadata": {}
    },
    {
      "cell_type": "markdown",
      "source": "## **Author:**\n#### Hussein A Mohamed\n###### all done\n",
      "metadata": {}
    },
    {
      "cell_type": "code",
      "source": "",
      "metadata": {
        "trusted": true
      },
      "outputs": [],
      "execution_count": null
    }
  ]
}